{
 "cells": [
  {
   "cell_type": "code",
   "execution_count": null,
   "id": "11b52090",
   "metadata": {},
   "outputs": [],
   "source": [
    "# Scripting Language : Python\n",
    "\n",
    "# Libraries : psycopg2 for PostgreSQL database interaction\n",
    "#             SQLAlchemy for creating a database engine.\n",
    "#             Pandas for data manipulation\n",
    "\n",
    "# Approach \n",
    "# Step1 : Create a PostgreSQL database\n",
    "# Step2 : Connect Python NoteBook with the Database\n",
    "# Step3 : Create Required Tables and Import the data from CSV file\n",
    "# Step4 : Perform the required analysis\n"
   ]
  },
  {
   "cell_type": "code",
   "execution_count": null,
   "id": "fc7a37d8",
   "metadata": {},
   "outputs": [],
   "source": [
    "# Importing Libraries\n",
    "import pandas as pd\n",
    "import psycopg2\n",
    "from sqlalchemy import create_engine\n",
    "from psycopg2.extras import execute_batch"
   ]
  },
  {
   "cell_type": "code",
   "execution_count": null,
   "id": "fe3cea9e",
   "metadata": {},
   "outputs": [],
   "source": [
    "# Reading data from ratings.csv\n",
    "csv_file_path = 'ratings.csv'\n",
    "df = pd.read_csv(csv_file_path)"
   ]
  },
  {
   "cell_type": "code",
   "execution_count": null,
   "id": "177aaa91",
   "metadata": {},
   "outputs": [],
   "source": [
    "# Defining Connection Parameters\n",
    "db_connection = {\n",
    "    'host': 'localhost',\n",
    "    'port': '5432',\n",
    "    'database': 'postgres',\n",
    "    'user': 'postgres',\n",
    "    'password': '1234'\n",
    "}"
   ]
  },
  {
   "cell_type": "code",
   "execution_count": null,
   "id": "9573953f",
   "metadata": {},
   "outputs": [],
   "source": [
    "df['time'] = pd.to_datetime(df['time'], unit='s', origin='unix', utc=True)\n",
    "table_name = 'ratings'\n",
    "engine = create_engine(f'postgresql+psycopg2://{db_connection[\"user\"]}:{db_connection[\"password\"]}@{db_connection[\"host\"]}:{db_connection[\"port\"]}/{db_connection[\"database\"]}')\n",
    "\n",
    "with engine.connect() as con:\n",
    "    con.execute(\"SET datestyle = 'ISO';\")\n",
    "\n",
    "df.to_sql(table_name, con=engine, if_exists='replace', index=False)\n",
    "\n",
    "engine.dispose()"
   ]
  },
  {
   "cell_type": "code",
   "execution_count": null,
   "id": "39c1ec8e",
   "metadata": {},
   "outputs": [],
   "source": [
    "#Reading data from movies.csv\n",
    "csv_file_path = 'movies.csv'\n",
    "df = pd.read_csv(csv_file_path)\n",
    "\n",
    "\n",
    "# Since 'country' and 'genre' have comma seperated values in them \n",
    "# I converted CSVs in the 'country' and 'genre' columns to arrays\n",
    "df['country'] = df['country'].apply(lambda x: x.split(',') if isinstance(x, str) else [])\n",
    "df['genre'] = df['genre'].apply(lambda x: x.split(',') if isinstance(x, str) else [])\n",
    "\n",
    "# Establish a connection to PostgreSQL\n",
    "conn = psycopg2.connect(**db_connection)\n",
    "\n",
    "# Open a cursor to perform database operations\n",
    "cursor = conn.cursor()\n",
    "\n",
    "\n",
    "# Creating the movies table \n",
    "create_table_query = '''\n",
    "CREATE TABLE IF NOT EXISTS movies (\n",
    "    id INTEGER PRIMARY KEY,\n",
    "    title VARCHAR(500),  \n",
    "    year INTEGER,\n",
    "    country VARCHAR(255)[] NOT NULL,\n",
    "    genre VARCHAR(255)[] NOT NULL,\n",
    "    director VARCHAR(500),  \n",
    "    minutes INTEGER,\n",
    "    poster VARCHAR(1000)  \n",
    ");\n",
    "'''\n",
    "cursor.execute(create_table_query)\n",
    "\n",
    "\n",
    "# Inserting data into the movies table using execute_batch\n",
    "insert_query = '''\n",
    "INSERT INTO movies (id, title, year, country, genre, director, minutes, poster)\n",
    "VALUES (%(id)s, %(title)s, %(year)s, %(country)s, %(genre)s, %(director)s, %(minutes)s, %(poster)s);\n",
    "'''\n",
    "\n",
    "# Converting DataFrame to a list of dictionaries\n",
    "data = df.to_dict(orient='records')\n",
    "\n",
    "# Execute the query in batches\n",
    "execute_batch(cursor, insert_query, data, page_size=1000)  \n",
    "\n",
    "conn.commit()\n"
   ]
  },
  {
   "cell_type": "code",
   "execution_count": 27,
   "id": "8c8d1197",
   "metadata": {},
   "outputs": [
    {
     "name": "stdout",
     "output_type": "stream",
     "text": [
      "Top 5 Movie Titles by Duration:\n",
      "                         Title  Duration\n",
      "0           Gangs of Wasseypur       320\n",
      "1           Gone with the Wind       238\n",
      "2  Once Upon a Time in America       229\n",
      "3           Lawrence of Arabia       216\n",
      "4                 Jodhaa Akbar       213\n",
      "\n"
     ]
    }
   ],
   "source": [
    "cursor.execute('''\n",
    "    SELECT title, minutes\n",
    "    FROM movies\n",
    "    ORDER BY minutes DESC\n",
    "    LIMIT 5;\n",
    "''')\n",
    "result_duration = cursor.fetchall()\n",
    "print(\"Top 5 Movie Titles by Duration:\")\n",
    "print(pd.DataFrame(result_duration, columns=['Title', 'Duration']))\n",
    "print()"
   ]
  },
  {
   "cell_type": "code",
   "execution_count": 28,
   "id": "dd898018",
   "metadata": {},
   "outputs": [
    {
     "name": "stdout",
     "output_type": "stream",
     "text": [
      "Top 5 Movie Titles by Year of Release:\n",
      "                     Title  Year\n",
      "0          Bridge of Spies  2015\n",
      "1           Irrational Man  2015\n",
      "2                    Ted 2  2015\n",
      "3           McFarland, USA  2015\n",
      "4  Cobain: Montage of Heck  2015\n",
      "\n"
     ]
    }
   ],
   "source": [
    "# Top 5 Movie Titles by Year of Release\n",
    "cursor.execute('''\n",
    "    SELECT title, year\n",
    "    FROM movies\n",
    "    ORDER BY year DESC\n",
    "    LIMIT 5;\n",
    "''')\n",
    "result_year = cursor.fetchall()\n",
    "print(\"Top 5 Movie Titles by Year of Release:\")\n",
    "print(pd.DataFrame(result_year, columns=['Title', 'Year']))\n",
    "print()"
   ]
  },
  {
   "cell_type": "code",
   "execution_count": 29,
   "id": "518963d8",
   "metadata": {},
   "outputs": [
    {
     "name": "stdout",
     "output_type": "stream",
     "text": [
      "Top 5 Movie Titles by Average Rating:\n",
      "                                            Title      Average Rating\n",
      "0                               L.A. Confidential  9.8000000000000000\n",
      "1                          The Godfather: Part II  9.8000000000000000\n",
      "2                        The Shawshank Redemption  9.6500000000000000\n",
      "3   The Lord of the Rings: The Return of the King  9.6000000000000000\n",
      "4  Star Wars: Episode V - The Empire Strikes Back  9.5714285714285714\n",
      "\n"
     ]
    }
   ],
   "source": [
    "# Top 5 Movie Titles by Average Rating (considering movies with minimum 5 ratings)\n",
    "cursor.execute('''\n",
    "    SELECT title, AVG(rating) AS average_rating\n",
    "FROM movies\n",
    "JOIN ratings ON movies.id = ratings.movie_id\n",
    "GROUP BY movies.id, title\n",
    "HAVING COUNT(ratings.rater_id) >= 5\n",
    "ORDER BY average_rating DESC\n",
    "LIMIT 5;\n",
    "''')\n",
    "result_avg_rating = cursor.fetchall()\n",
    "print(\"Top 5 Movie Titles by Average Rating:\")\n",
    "print(pd.DataFrame(result_avg_rating, columns=['Title', 'Average Rating']))\n",
    "print()"
   ]
  },
  {
   "cell_type": "code",
   "execution_count": 30,
   "id": "d8a2f690",
   "metadata": {},
   "outputs": [
    {
     "name": "stdout",
     "output_type": "stream",
     "text": [
      "Top 5 Movie Titles by Number of Ratings Given:\n",
      "                     Title  Rating Count\n",
      "0  The Wolf of Wall Street            69\n",
      "1                  Gravity            64\n",
      "2             Man of Steel            60\n",
      "3           Now You See Me            59\n",
      "4             Interstellar            58\n",
      "\n"
     ]
    }
   ],
   "source": [
    "# Top 5 Movie Titles by Number of Ratings Given\n",
    "cursor.execute('''\n",
    "    SELECT title, COUNT(ratings.rater_id) AS rating_count\n",
    "    FROM movies\n",
    "    LEFT JOIN ratings ON movies.id = ratings.movie_id\n",
    "    GROUP BY movies.id, title\n",
    "    ORDER BY rating_count DESC\n",
    "    LIMIT 5;\n",
    "''')\n",
    "result_rating_count = cursor.fetchall()\n",
    "print(\"Top 5 Movie Titles by Number of Ratings Given:\")\n",
    "print(pd.DataFrame(result_rating_count, columns=['Title', 'Rating Count']))\n",
    "print()"
   ]
  },
  {
   "cell_type": "code",
   "execution_count": 31,
   "id": "4fa11d53",
   "metadata": {},
   "outputs": [
    {
     "name": "stdout",
     "output_type": "stream",
     "text": [
      "Number of Unique Raters: 1048\n"
     ]
    }
   ],
   "source": [
    "cursor.execute('''\n",
    "    SELECT COUNT(DISTINCT rater_id) AS unique_rater_count\n",
    "    FROM ratings;\n",
    "''')\n",
    "result_unique_raters = cursor.fetchone()\n",
    "print(\"Number of Unique Raters:\", result_unique_raters[0])"
   ]
  },
  {
   "cell_type": "code",
   "execution_count": 33,
   "id": "78f0091b",
   "metadata": {},
   "outputs": [
    {
     "name": "stdout",
     "output_type": "stream",
     "text": [
      "Top 5 Rater IDs by Most Movies Rated:\n",
      "   Rater ID  Movies Rated Count\n",
      "0       735                 314\n",
      "1       769                 209\n",
      "2       512                 188\n",
      "3       800                 186\n",
      "4        82                 159\n",
      "\n",
      "Top 5 Rater IDs by Highest Average Rating:\n",
      "   Rater ID       Average Rating\n",
      "0       206  10.0000000000000000\n",
      "1       256  10.0000000000000000\n",
      "2       231  10.0000000000000000\n",
      "3       662  10.0000000000000000\n",
      "4       146  10.0000000000000000\n",
      "\n",
      "\n"
     ]
    }
   ],
   "source": [
    "# Top 5 Rater IDs by Most Movies Rated\n",
    "cursor.execute('''\n",
    "    SELECT rater_id, COUNT(*) AS movies_rated_count\n",
    "    FROM ratings\n",
    "    GROUP BY rater_id\n",
    "    ORDER BY movies_rated_count DESC\n",
    "    LIMIT 5;\n",
    "''')\n",
    "result_most_movies_rated = cursor.fetchall()\n",
    "print(\"Top 5 Rater IDs by Most Movies Rated:\")\n",
    "print(pd.DataFrame(result_most_movies_rated, columns=['Rater ID', 'Movies Rated Count']))\n",
    "print()\n",
    "\n",
    "# Top 5 Rater IDs by Highest Average Rating Given (consider raters with a minimum of 5 ratings)\n",
    "cursor.execute('''\n",
    "    SELECT rater_id, AVG(rating) AS average_rating\n",
    "    FROM ratings\n",
    "    GROUP BY rater_id\n",
    "    HAVING COUNT(*) >= 5\n",
    "    ORDER BY average_rating DESC\n",
    "    LIMIT 5;\n",
    "''')\n",
    "result_highest_avg_rating = cursor.fetchall()\n",
    "print(\"Top 5 Rater IDs by Highest Average Rating:\")\n",
    "print(pd.DataFrame(result_highest_avg_rating, columns=['Rater ID', 'Average Rating']))\n",
    "print()\n",
    "print()"
   ]
  },
  {
   "cell_type": "code",
   "execution_count": 37,
   "id": "02f56292",
   "metadata": {},
   "outputs": [
    {
     "name": "stdout",
     "output_type": "stream",
     "text": [
      "Top Rated Movie by Director 'Michael Bay':\n",
      "          Title      Average Rating\n",
      "0  Transformers  8.6000000000000000\n",
      "\n"
     ]
    }
   ],
   "source": [
    "# Top Rated Movie by Director 'Michael Bay'\n",
    "cursor.execute('''\n",
    "    SELECT movies.title, AVG(ratings.rating) AS average_rating\n",
    "    FROM movies\n",
    "    JOIN ratings ON movies.id = ratings.movie_id\n",
    "    WHERE movies.director = 'Michael Bay'\n",
    "    GROUP BY movies.id, movies.title\n",
    "    HAVING COUNT(ratings.rater_id) >= 5\n",
    "    ORDER BY average_rating DESC\n",
    "    LIMIT 1;\n",
    "''')\n",
    "result_director = cursor.fetchall()\n",
    "print(\"Top Rated Movie by Director 'Michael Bay':\")\n",
    "print(pd.DataFrame(result_director, columns=['Title', 'Average Rating']))\n",
    "print()"
   ]
  },
  {
   "cell_type": "code",
   "execution_count": 38,
   "id": "63ef17d1",
   "metadata": {},
   "outputs": [
    {
     "name": "stdout",
     "output_type": "stream",
     "text": [
      "Top Rated Comedy Movie:\n",
      "  Title      Average Rating\n",
      "0    PK  9.3000000000000000\n",
      "\n"
     ]
    }
   ],
   "source": [
    "# Top Rated Comedy Movie\n",
    "cursor.execute('''\n",
    "    SELECT movies.title, AVG(ratings.rating) AS average_rating\n",
    "    FROM movies\n",
    "    JOIN ratings ON movies.id = ratings.movie_id\n",
    "    WHERE 'Comedy' = ANY(movies.genre)\n",
    "    GROUP BY movies.id, movies.title\n",
    "    HAVING COUNT(ratings.rater_id) >= 5\n",
    "    ORDER BY average_rating DESC\n",
    "    LIMIT 1;\n",
    "''')\n",
    "result_comedy = cursor.fetchall()\n",
    "print(\"Top Rated Comedy Movie:\")\n",
    "print(pd.DataFrame(result_comedy, columns=['Title', 'Average Rating']))\n",
    "print()"
   ]
  },
  {
   "cell_type": "code",
   "execution_count": 39,
   "id": "dfd46b7e",
   "metadata": {},
   "outputs": [
    {
     "name": "stdout",
     "output_type": "stream",
     "text": [
      "Top Rated Movie in the Year 2013:\n",
      "           Title      Average Rating\n",
      "0  Short Term 12  8.7777777777777778\n",
      "\n"
     ]
    }
   ],
   "source": [
    "# Top Rated Movie in the Year 2013\n",
    "cursor.execute('''\n",
    "    SELECT movies.title, AVG(ratings.rating) AS average_rating\n",
    "    FROM movies\n",
    "    JOIN ratings ON movies.id = ratings.movie_id\n",
    "    WHERE movies.year = 2013\n",
    "    GROUP BY movies.id, movies.title\n",
    "    HAVING COUNT(ratings.rater_id) >= 5\n",
    "    ORDER BY average_rating DESC\n",
    "    LIMIT 1;\n",
    "''')\n",
    "result_year = cursor.fetchall()\n",
    "print(\"Top Rated Movie in the Year 2013:\")\n",
    "print(pd.DataFrame(result_year, columns=['Title', 'Average Rating']))\n",
    "print()"
   ]
  },
  {
   "cell_type": "code",
   "execution_count": 40,
   "id": "c34e798e",
   "metadata": {},
   "outputs": [
    {
     "name": "stdout",
     "output_type": "stream",
     "text": [
      "Top Rated Movie in India:\n",
      "  Title      Average Rating\n",
      "0    PK  9.3000000000000000\n",
      "\n"
     ]
    }
   ],
   "source": [
    "# Top Rated Movie in India\n",
    "cursor.execute('''\n",
    "    SELECT movies.title, AVG(ratings.rating) AS average_rating\n",
    "    FROM movies\n",
    "    JOIN ratings ON movies.id = ratings.movie_id\n",
    "    WHERE 'India' = ANY(movies.country)\n",
    "    GROUP BY movies.id, movies.title\n",
    "    HAVING COUNT(ratings.rater_id) >= 5\n",
    "    ORDER BY average_rating DESC\n",
    "    LIMIT 1;\n",
    "''')\n",
    "result_country = cursor.fetchall()\n",
    "print(\"Top Rated Movie in India:\")\n",
    "print(pd.DataFrame(result_country, columns=['Title', 'Average Rating']))\n",
    "print()"
   ]
  },
  {
   "cell_type": "code",
   "execution_count": 41,
   "id": "dfe0a150",
   "metadata": {},
   "outputs": [
    {
     "name": "stdout",
     "output_type": "stream",
     "text": [
      "Favorite Movie Genre of Rater ID 1040: ['Action', ' Adventure', ' Sci-Fi']\n"
     ]
    }
   ],
   "source": [
    "# Favorite Movie Genre of Rater ID 1040\n",
    "cursor.execute('''\n",
    "    SELECT genre\n",
    "    FROM (\n",
    "        SELECT genre, COUNT(*) AS genre_count\n",
    "        FROM movies\n",
    "        JOIN ratings ON movies.id = ratings.movie_id\n",
    "        WHERE ratings.rater_id = 1040\n",
    "        GROUP BY genre\n",
    "        ORDER BY genre_count DESC\n",
    "        LIMIT 1\n",
    "    ) AS favorite_genre;\n",
    "''')\n",
    "result_favorite_genre = cursor.fetchone()\n",
    "\n",
    "if result_favorite_genre:\n",
    "    print(f\"Favorite Movie Genre of Rater ID 1040: {result_favorite_genre[0]}\")\n",
    "else:\n",
    "    print(\"Rater ID 1040 has not rated any movies.\")"
   ]
  },
  {
   "cell_type": "code",
   "execution_count": 48,
   "id": "2078abf8",
   "metadata": {},
   "outputs": [
    {
     "name": "stdout",
     "output_type": "stream",
     "text": [
      "Highest Average Rating for a Movie Genre by Rater ID 1040:\n",
      "Genre: ['Action', ' Adventure', ' Sci-Fi'], Highest Average Rating: 8.4545454545454545\n"
     ]
    }
   ],
   "source": [
    "# Highest Average Rating for a Movie Genre by Rater ID 1040\n",
    "cursor.execute('''\n",
    "    SELECT genre, MAX(average_rating) AS highest_average_rating\n",
    "    FROM (\n",
    "        SELECT genre, AVG(rating) AS average_rating\n",
    "        FROM movies\n",
    "        JOIN ratings ON movies.id = ratings.movie_id\n",
    "        WHERE ratings.rater_id = 1040\n",
    "        GROUP BY genre\n",
    "        HAVING COUNT(ratings.rater_id) >= 5\n",
    "    ) AS genre_ratings\n",
    "    GROUP BY genre;\n",
    "''')\n",
    "result_highest_avg_rating = cursor.fetchone()\n",
    "\n",
    "if result_highest_avg_rating:\n",
    "    print(f\"Highest Average Rating for a Movie Genre by Rater ID 1040:\")\n",
    "    print(f\"Genre: {result_highest_avg_rating[0]}, Highest Average Rating: {result_highest_avg_rating[1]}\")\n",
    "else:\n",
    "    print(\"Rater ID 1040 has not rated any movies in genres with a minimum of 5 ratings.\")\n"
   ]
  },
  {
   "cell_type": "code",
   "execution_count": 51,
   "id": "b6fe1238",
   "metadata": {},
   "outputs": [
    {
     "name": "stdout",
     "output_type": "stream",
     "text": [
      "Year with Second-Highest Number of Action Movies:\n",
      "Year: 1984, Action Movie Count: 4\n"
     ]
    }
   ],
   "source": [
    "# Year with Second-Highest Number of Action Movies\n",
    "cursor.execute('''\n",
    "    SELECT year, COUNT(*) AS action_movie_count\n",
    "FROM movies\n",
    "JOIN ratings ON movies.id = ratings.movie_id\n",
    "WHERE 'Action' = ANY(movies.genre)\n",
    "  AND 'USA' = ANY(movies.country)\n",
    "GROUP BY year\n",
    "HAVING AVG(ratings.rating) >= 6.5\n",
    "  AND MAX(movies.minutes) < 120\n",
    "ORDER BY action_movie_count DESC\n",
    "OFFSET 1\n",
    "LIMIT 1;\n",
    "''')\n",
    "result_second_highest_action_count = cursor.fetchone()\n",
    "\n",
    "if result_second_highest_action_count:\n",
    "    print(f\"Year with Second-Highest Number of Action Movies:\")\n",
    "    print(f\"Year: {result_second_highest_action_count[0]}, Action Movie Count: {result_second_highest_action_count[1]}\")\n",
    "else:\n",
    "    print(\"No qualifying movies found.\")"
   ]
  },
  {
   "cell_type": "code",
   "execution_count": 54,
   "id": "d034ce89",
   "metadata": {},
   "outputs": [
    {
     "name": "stdout",
     "output_type": "stream",
     "text": [
      "Number of Movies with High Ratings (at least five reviews with a rating of 7 or higher):\n",
      "Count: 1\n"
     ]
    }
   ],
   "source": [
    "# Count of Movies with High Ratings\n",
    "cursor.execute('''\n",
    "    SELECT COUNT(DISTINCT movies.id) AS high_rated_movie_count\n",
    "    FROM movies\n",
    "    JOIN ratings ON movies.id = ratings.movie_id\n",
    "    WHERE ratings.rating >= 7\n",
    "    GROUP BY movies.id\n",
    "    HAVING COUNT(ratings.rater_id) >= 5;\n",
    "''')\n",
    "result_high_rated_movie_count = cursor.fetchone()\n",
    "\n",
    "if result_high_rated_movie_count:\n",
    "    print(f\"Number of Movies with High Ratings (at least five reviews with a rating of 7 or higher):\")\n",
    "    print(f\"Count: {result_high_rated_movie_count[0]}\")\n",
    "else:\n",
    "    print(\"No movies meet the specified criteria.\")"
   ]
  },
  {
   "cell_type": "code",
   "execution_count": 56,
   "id": "44d45809",
   "metadata": {},
   "outputs": [],
   "source": [
    "cursor.close()\n",
    "conn.close()"
   ]
  },
  {
   "cell_type": "code",
   "execution_count": null,
   "id": "ab1ea1e6",
   "metadata": {},
   "outputs": [],
   "source": []
  }
 ],
 "metadata": {
  "kernelspec": {
   "display_name": "Python 3 (ipykernel)",
   "language": "python",
   "name": "python3"
  },
  "language_info": {
   "codemirror_mode": {
    "name": "ipython",
    "version": 3
   },
   "file_extension": ".py",
   "mimetype": "text/x-python",
   "name": "python",
   "nbconvert_exporter": "python",
   "pygments_lexer": "ipython3",
   "version": "3.11.5"
  }
 },
 "nbformat": 4,
 "nbformat_minor": 5
}
